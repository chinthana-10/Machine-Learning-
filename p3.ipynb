{
 "cells": [
  {
   "cell_type": "code",
   "execution_count": 1,
   "id": "11567371",
   "metadata": {},
   "outputs": [
    {
     "name": "stdout",
     "output_type": "stream",
     "text": [
      "      time weather      temp company humidity    wind goes\n",
      "0  morning   sunny      warm     yes     mild  strong  yes\n",
      "1  evening   rainy      cold      no     mild  normal   no\n",
      "2  morning   sunny  moderate     yes   normal  normal  yes\n",
      "3  evening   sunny      cold     yes     high  strong  yes\n"
     ]
    }
   ],
   "source": [
    "import pandas as pd\n",
    "import numpy as np\n",
    "df=pd.read_csv(\"p3.csv\")\n",
    "print(df)"
   ]
  },
  {
   "cell_type": "code",
   "execution_count": 2,
   "id": "116902f6",
   "metadata": {},
   "outputs": [
    {
     "data": {
      "text/plain": [
       "(4, 7)"
      ]
     },
     "execution_count": 2,
     "metadata": {},
     "output_type": "execute_result"
    }
   ],
   "source": [
    "df.shape"
   ]
  },
  {
   "cell_type": "code",
   "execution_count": 3,
   "id": "4056775b",
   "metadata": {},
   "outputs": [
    {
     "name": "stdout",
     "output_type": "stream",
     "text": [
      "features in the dataset:\n",
      " [['morning' 'sunny' 'warm' 'yes' 'mild' 'strong']\n",
      " ['evening' 'rainy' 'cold' 'no' 'mild' 'normal']\n",
      " ['morning' 'sunny' 'moderate' 'yes' 'normal' 'normal']\n",
      " ['evening' 'sunny' 'cold' 'yes' 'high' 'strong']]\n"
     ]
    }
   ],
   "source": [
    "features=np.array(df)[:,:-1]\n",
    "print(\"features in the dataset:\\n\",features)"
   ]
  },
  {
   "cell_type": "code",
   "execution_count": 4,
   "id": "2d170e08",
   "metadata": {},
   "outputs": [
    {
     "name": "stdout",
     "output_type": "stream",
     "text": [
      "Target concept:\n",
      " ['yes' 'no' 'yes' 'yes']\n"
     ]
    },
    {
     "data": {
      "text/plain": [
       "(4,)"
      ]
     },
     "execution_count": 4,
     "metadata": {},
     "output_type": "execute_result"
    }
   ],
   "source": [
    "target=np.array(df)[:,-1]\n",
    "print(\"Target concept:\\n\",target)\n",
    "target.shape"
   ]
  },
  {
   "cell_type": "code",
   "execution_count": 5,
   "id": "5a86611d",
   "metadata": {},
   "outputs": [],
   "source": [
    "for i,val in enumerate(target):\n",
    "    if val=='yes':\n",
    "        hypothesis=features[i].copy()\n",
    "        break\n",
    "     "
   ]
  },
  {
   "cell_type": "code",
   "execution_count": 6,
   "id": "dc972c15",
   "metadata": {},
   "outputs": [
    {
     "name": "stdout",
     "output_type": "stream",
     "text": [
      "['morning' 'sunny' 'warm' 'yes' 'mild' 'strong']\n"
     ]
    }
   ],
   "source": [
    "print(hypothesis)"
   ]
  },
  {
   "cell_type": "code",
   "execution_count": 7,
   "id": "1aaf241e",
   "metadata": {},
   "outputs": [
    {
     "name": "stdout",
     "output_type": "stream",
     "text": [
      "['?' 'sunny' '?' 'yes' '?' '?']\n"
     ]
    }
   ],
   "source": [
    "for i,val in enumerate(features):\n",
    "    if target[i]=='yes':\n",
    "        for x in range (len(hypothesis)):\n",
    "            if val[x]!=hypothesis[x]:\n",
    "                hypothesis[x]='?'\n",
    "print(hypothesis)"
   ]
  },
  {
   "cell_type": "code",
   "execution_count": null,
   "id": "4db59e3f",
   "metadata": {},
   "outputs": [],
   "source": []
  }
 ],
 "metadata": {
  "kernelspec": {
   "display_name": "Python 3 (ipykernel)",
   "language": "python",
   "name": "python3"
  },
  "language_info": {
   "codemirror_mode": {
    "name": "ipython",
    "version": 3
   },
   "file_extension": ".py",
   "mimetype": "text/x-python",
   "name": "python",
   "nbconvert_exporter": "python",
   "pygments_lexer": "ipython3",
   "version": "3.10.9"
  }
 },
 "nbformat": 4,
 "nbformat_minor": 5
}
