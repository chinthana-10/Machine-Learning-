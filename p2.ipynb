{
 "cells": [
  {
   "cell_type": "code",
   "execution_count": 1,
   "id": "f9bbfe7c",
   "metadata": {},
   "outputs": [
    {
     "name": "stdout",
     "output_type": "stream",
     "text": [
      "    color toughness fungus appearance poisonous\n",
      "0   green      hard     no   wrinkeld       yes\n",
      "1   green      hard    yes   wrinkeld        no\n",
      "2   brown      soft     no   wrinkeld        no\n",
      "3  orange      hard     no   wrinkeld       yes\n",
      "4   green      soft    yes     smooth       yes\n",
      "5   green      hard    yes   wrinkeld       yes\n",
      "6  orange      hard     no   wrinkeld       yes\n"
     ]
    }
   ],
   "source": [
    "import pandas as pd\n",
    "import numpy as np\n",
    "df=pd.read_csv(\"p2.csv\")\n",
    "print(df)"
   ]
  },
  {
   "cell_type": "code",
   "execution_count": 2,
   "id": "bbe398d5",
   "metadata": {},
   "outputs": [
    {
     "data": {
      "text/plain": [
       "(7, 5)"
      ]
     },
     "execution_count": 2,
     "metadata": {},
     "output_type": "execute_result"
    }
   ],
   "source": [
    "df.shape"
   ]
  },
  {
   "cell_type": "code",
   "execution_count": 3,
   "id": "90324338",
   "metadata": {},
   "outputs": [
    {
     "name": "stdout",
     "output_type": "stream",
     "text": [
      "features in the dataset:\n",
      " [['green' 'hard' 'no' 'wrinkeld']\n",
      " ['green' 'hard' 'yes' 'wrinkeld']\n",
      " ['brown' 'soft' 'no' 'wrinkeld']\n",
      " ['orange' 'hard' 'no' 'wrinkeld']\n",
      " ['green' 'soft' 'yes' 'smooth']\n",
      " ['green' 'hard' 'yes' 'wrinkeld']\n",
      " ['orange' 'hard' 'no' 'wrinkeld']]\n"
     ]
    }
   ],
   "source": [
    "features=np.array(df)[:,:-1]\n",
    "print(\"features in the dataset:\\n\",features)"
   ]
  },
  {
   "cell_type": "code",
   "execution_count": 4,
   "id": "cc0d9b25",
   "metadata": {},
   "outputs": [
    {
     "name": "stdout",
     "output_type": "stream",
     "text": [
      "Target concept:\n",
      " ['yes' 'no' 'no' 'yes' 'yes' 'yes' 'yes']\n"
     ]
    },
    {
     "data": {
      "text/plain": [
       "(7,)"
      ]
     },
     "execution_count": 4,
     "metadata": {},
     "output_type": "execute_result"
    }
   ],
   "source": [
    "target=np.array(df)[:,-1]\n",
    "print(\"Target concept:\\n\",target)\n",
    "target.shape"
   ]
  },
  {
   "cell_type": "code",
   "execution_count": 5,
   "id": "1e09cdd6",
   "metadata": {},
   "outputs": [],
   "source": [
    "for i,val in enumerate(target):\n",
    "    if val=='yes':\n",
    "        hypothesis=features[i].copy()\n",
    "        break\n",
    "     "
   ]
  },
  {
   "cell_type": "code",
   "execution_count": 6,
   "id": "033744de",
   "metadata": {},
   "outputs": [
    {
     "name": "stdout",
     "output_type": "stream",
     "text": [
      "['green' 'hard' 'no' 'wrinkeld']\n"
     ]
    }
   ],
   "source": [
    "   print(hypothesis)"
   ]
  },
  {
   "cell_type": "code",
   "execution_count": 7,
   "id": "22ed8fd3",
   "metadata": {},
   "outputs": [
    {
     "name": "stdout",
     "output_type": "stream",
     "text": [
      "['?' '?' '?' '?']\n"
     ]
    }
   ],
   "source": [
    "for i,val in enumerate(features):\n",
    "    if target[i]=='yes':\n",
    "        for x in range (len(hypothesis)):\n",
    "            if val[x]!=hypothesis[x]:\n",
    "                hypothesis[x]='?'\n",
    "print(hypothesis)"
   ]
  },
  {
   "cell_type": "code",
   "execution_count": null,
   "id": "1dc50a40",
   "metadata": {},
   "outputs": [],
   "source": []
  }
 ],
 "metadata": {
  "kernelspec": {
   "display_name": "Python 3 (ipykernel)",
   "language": "python",
   "name": "python3"
  },
  "language_info": {
   "codemirror_mode": {
    "name": "ipython",
    "version": 3
   },
   "file_extension": ".py",
   "mimetype": "text/x-python",
   "name": "python",
   "nbconvert_exporter": "python",
   "pygments_lexer": "ipython3",
   "version": "3.10.9"
  }
 },
 "nbformat": 4,
 "nbformat_minor": 5
}
