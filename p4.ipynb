{
 "cells": [
  {
   "cell_type": "code",
   "execution_count": 2,
   "id": "142ae235",
   "metadata": {},
   "outputs": [
    {
     "name": "stdout",
     "output_type": "stream",
     "text": [
      "     eyes      nose    head  fcolor hair smile\n",
      "0   round  triangle   round  purple  yes   yes\n",
      "1  square    square  square   green  yes    no\n",
      "2  square  triangle   round  yellow  yes   yes\n",
      "3   round  triangle   round   green   no    no\n",
      "4  square    square   round  yellow  yes   yes\n"
     ]
    }
   ],
   "source": [
    "import pandas as pd\n",
    "import numpy as np\n",
    "df=pd.read_csv(\"p4.csv\")\n",
    "print(df)"
   ]
  },
  {
   "cell_type": "code",
   "execution_count": 3,
   "id": "c9b2a0f2",
   "metadata": {},
   "outputs": [
    {
     "name": "stdout",
     "output_type": "stream",
     "text": [
      "features in the dataset:\n",
      " [['round' 'triangle' 'round' 'purple' 'yes']\n",
      " ['square' 'square' 'square' 'green' 'yes']\n",
      " ['square' 'triangle' 'round' 'yellow' 'yes']\n",
      " ['round' 'triangle' 'round' 'green' 'no']\n",
      " ['square' 'square' 'round' 'yellow' 'yes']]\n"
     ]
    }
   ],
   "source": [
    "concept=np.array(df)[:,:-1]\n",
    "print(\"features in the dataset:\\n\",concept)"
   ]
  },
  {
   "cell_type": "code",
   "execution_count": 4,
   "id": "8c87d51b",
   "metadata": {},
   "outputs": [
    {
     "name": "stdout",
     "output_type": "stream",
     "text": [
      "Target concept:\n",
      " ['yes' 'no' 'yes' 'no' 'yes']\n"
     ]
    },
    {
     "data": {
      "text/plain": [
       "(5,)"
      ]
     },
     "execution_count": 4,
     "metadata": {},
     "output_type": "execute_result"
    }
   ],
   "source": [
    "target=np.array(df)[:,-1]\n",
    "print(\"Target concept:\\n\",target)\n",
    "target.shape"
   ]
  },
  {
   "cell_type": "code",
   "execution_count": 5,
   "id": "2c7c1a8a",
   "metadata": {},
   "outputs": [
    {
     "name": "stdout",
     "output_type": "stream",
     "text": [
      "\n",
      "Iteration 1\n",
      "\n",
      "Specific: ['round' 'triangle' 'round' 'purple' 'yes']\n",
      "\n",
      "General: [['?', '?', '?', '?', '?'], ['?', '?', '?', '?', '?'], ['?', '?', '?', '?', '?'], ['?', '?', '?', '?', '?'], ['?', '?', '?', '?', '?']]\n",
      "\n",
      "\n",
      "\n",
      "\n",
      "Iteration 2\n",
      "\n",
      "Specific: ['round' 'triangle' 'round' 'purple' 'yes']\n",
      "\n",
      "General: [['round', '?', '?', '?', '?'], ['?', 'triangle', '?', '?', '?'], ['?', '?', 'round', '?', '?'], ['?', '?', '?', 'purple', '?'], ['?', '?', '?', '?', '?']]\n",
      "\n",
      "\n",
      "\n",
      "\n",
      "Iteration 3\n",
      "\n",
      "Specific: ['?' 'triangle' 'round' '?' 'yes']\n",
      "\n",
      "General: [['?', '?', '?', '?', '?'], ['?', 'triangle', '?', '?', '?'], ['?', '?', 'round', '?', '?'], ['?', '?', '?', '?', '?'], ['?', '?', '?', '?', '?']]\n",
      "\n",
      "\n",
      "\n",
      "\n",
      "Iteration 4\n",
      "\n",
      "Specific: ['?' 'triangle' 'round' '?' 'yes']\n",
      "\n",
      "General: [['?', '?', '?', '?', '?'], ['?', '?', '?', '?', '?'], ['?', '?', '?', '?', '?'], ['?', '?', '?', '?', '?'], ['?', '?', '?', '?', 'yes']]\n",
      "\n",
      "\n",
      "\n",
      "\n",
      "Iteration 5\n",
      "\n",
      "Specific: ['?' '?' 'round' '?' 'yes']\n",
      "\n",
      "General: [['?', '?', '?', '?', '?'], ['?', '?', '?', '?', '?'], ['?', '?', '?', '?', '?'], ['?', '?', '?', '?', '?'], ['?', '?', '?', '?', 'yes']]\n",
      "\n",
      "\n",
      "\n",
      "Final hypothesis:\n",
      "\n",
      "Specific hypothesis['?' '?' 'round' '?' 'yes']\n",
      "general hypothesis[['?', '?', '?', '?', 'yes']]\n"
     ]
    }
   ],
   "source": [
    "def train(con,tar):\n",
    "    specific_h=con[0].copy()\n",
    "    general_h=[['?'for x in range(len(specific_h))]for x in range (len(specific_h))]\n",
    "    \n",
    "    for i,val in enumerate(con):\n",
    "        if tar[i]=='yes':\n",
    "            for x in range(len(specific_h)):\n",
    "                if val[x] !=specific_h[x]:\n",
    "                    specific_h[x]='?'\n",
    "                    general_h[x][x]='?'\n",
    "        else:\n",
    "            for x in range(len(specific_h)):\n",
    "                if val[x] !=specific_h[x]:\n",
    "                    general_h[x][x]=specific_h[x]\n",
    "                else:\n",
    "                    general_h[x][x]='?'\n",
    "                                            \n",
    "        print(\"\\nIteration \"+str(i+1))\n",
    "        print(\"\\nSpecific: \"+str(specific_h))\n",
    "        print(\"\\nGeneral: \"+str(general_h))\n",
    "        print(\"\\n\\n\")\n",
    "                    \n",
    "    general_h=[general_h[i] for i,val in enumerate(general_h) if val !=['?' for x in range(len(specific_h))]]\n",
    "    return specific_h,general_h\n",
    "                \n",
    "specific,general=train(concept,target)\n",
    "\n",
    "print(\"Final hypothesis:\\n\")\n",
    "print(\"Specific hypothesis\"+str(specific))\n",
    "print(\"general hypothesis\"+str(general))"
   ]
  },
  {
   "cell_type": "code",
   "execution_count": null,
   "id": "47f67596",
   "metadata": {},
   "outputs": [],
   "source": []
  }
 ],
 "metadata": {
  "kernelspec": {
   "display_name": "Python 3 (ipykernel)",
   "language": "python",
   "name": "python3"
  },
  "language_info": {
   "codemirror_mode": {
    "name": "ipython",
    "version": 3
   },
   "file_extension": ".py",
   "mimetype": "text/x-python",
   "name": "python",
   "nbconvert_exporter": "python",
   "pygments_lexer": "ipython3",
   "version": "3.10.9"
  }
 },
 "nbformat": 4,
 "nbformat_minor": 5
}
