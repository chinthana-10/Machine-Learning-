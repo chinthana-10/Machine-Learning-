{
 "cells": [
  {
   "cell_type": "code",
   "execution_count": 2,
   "id": "367b153f",
   "metadata": {},
   "outputs": [],
   "source": [
    "import numpy as np\n",
    "import math\n",
    "import csv\n",
    "\n",
    "class Node:\n",
    "    def __init__(self,attribute):\n",
    "        self.attribute=attribute\n",
    "        self.children=[]\n",
    "        self.answer=None\n",
    "\n",
    "  "
   ]
  },
  {
   "cell_type": "code",
   "execution_count": 3,
   "id": "778bdd90",
   "metadata": {},
   "outputs": [],
   "source": [
    "def read_data(filename):\n",
    "        with open(filename,'r')as csvfile:\n",
    "            datareader=csv.reader(csvfile,delimiter=',')\n",
    "            headers=next(datareader)\n",
    "            traindata=[row for row in datareader]\n",
    "        return headers,traindata"
   ]
  },
  {
   "cell_type": "code",
   "execution_count": 4,
   "id": "c0d644f1",
   "metadata": {},
   "outputs": [],
   "source": [
    "def read_test_data(filename):\n",
    "        with open(filename,'r')as csvfile:\n",
    "            datareader=csv.reader(csvfile,delimiter=',')\n",
    "            headers=next(datareader)\n",
    "            testdata=[row for row in datareader]\n",
    "        return testdata"
   ]
  },
  {
   "cell_type": "code",
   "execution_count": 5,
   "id": "9e235c55",
   "metadata": {},
   "outputs": [],
   "source": [
    "def subtables(data,col,delete):\n",
    "    dict={}\n",
    "    items=np.unique(data[:,col])\n",
    "    for item in items:\n",
    "        dict[item]=data[data[:,col]==item]\n",
    "        if delete:\n",
    "            dict[item]=np.delete(dict[item],col,axis=1)\n",
    "    return items,dict\n",
    "\n",
    "\n",
    "\n"
   ]
  },
  {
   "cell_type": "code",
   "execution_count": 6,
   "id": "0bc46236",
   "metadata": {},
   "outputs": [],
   "source": [
    "import numpy as np\n",
    "\n",
    "def entropy(S):\n",
    "    items, counts = np.unique(S, return_counts=True)\n",
    "    probabilities = counts / len(S)  # Calculate probabilities correctly\n",
    "    return -np.sum(probabilities * np.log2(probabilities))  # Calculate entropy\n"
   ]
  },
  {
   "cell_type": "code",
   "execution_count": 7,
   "id": "ed13b493",
   "metadata": {},
   "outputs": [],
   "source": [
    "import numpy as np\n",
    "import math\n",
    "\n",
    "def entropy(S):\n",
    "    items, counts = np.unique(S, return_counts=True)\n",
    "    probabilities = counts / len(S)\n",
    "    return -np.sum(probabilities * np.log2(probabilities))\n",
    "\n",
    "def gain_ratio(data, col):\n",
    "    total_entropy = entropy(data[:, -1])\n",
    "    items, dictionary = subtables(data, col, delete=False)  # Assuming subtables is a function you have defined elsewhere\n",
    "    \n",
    "    subset_entropy = 0\n",
    "    intrinsic_value = 0\n",
    "    total_size = data.shape[0]\n",
    "    \n",
    "    for item in items:\n",
    "        subset = dictionary[item]\n",
    "        ratio = len(subset) / total_size\n",
    "        subset_entropy += ratio * entropy(subset[:, -1])  # Call entropy for each subset\n",
    "        intrinsic_value -= ratio * math.log2(ratio) if ratio != 0 else 0  # Added a check for zero ratio\n",
    "    \n",
    "    if intrinsic_value == 0:\n",
    "        return 0\n",
    "    \n",
    "    information_gain = total_entropy - subset_entropy\n",
    "    return information_gain / intrinsic_value\n"
   ]
  },
  {
   "cell_type": "code",
   "execution_count": 8,
   "id": "cea9b426",
   "metadata": {},
   "outputs": [],
   "source": [
    "def create_node(data,metadata):\n",
    "    if len(np.unique(data[:,-1]))==1:\n",
    "        node=Node(None)\n",
    "        node.answer=np.unique(data[:,-1])[0]\n",
    "        return node\n",
    "    gains=[gain_ratio(data,col)for col in range(data.shape[1]-1)]\n",
    "    split=np.argmax(gains)\n",
    "    node=Node(metadata[split])\n",
    "    items,dict=subtables(data,split,delete=True)\n",
    "    for item in items:\n",
    "        child=create_node(dict[item],np.delete(metadata,split))\n",
    "        node.children.append((item,child))\n",
    "    return node"
   ]
  },
  {
   "cell_type": "code",
   "execution_count": 9,
   "id": "8b0ed703",
   "metadata": {},
   "outputs": [],
   "source": [
    "def predict(node,instance,metadata):\n",
    "    if node.answer is not None:\n",
    "        return node.answer\n",
    "    value=instance[metadata.index(node.attribute)]\n",
    "    for item,child in node.children:\n",
    "        if item==value:\n",
    "            return predict(child,instance,metadata)"
   ]
  },
  {
   "cell_type": "code",
   "execution_count": 10,
   "id": "5fcd974d",
   "metadata": {},
   "outputs": [],
   "source": [
    "def empty(size):\n",
    "    return\" \"*size\n",
    "def print_tree(node,level):\n",
    "    if node.answer is not None:\n",
    "        print(empty(level),node.answer)\n",
    "        return\n",
    "    print(empty(level),node.attribute)\n",
    "    for value,n in node.children:\n",
    "        print(empty(level +1),value)\n",
    "        print_tree(n,level+2)"
   ]
  },
  {
   "cell_type": "code",
   "execution_count": 11,
   "id": "aac7fe69",
   "metadata": {},
   "outputs": [],
   "source": [
    "def print_predictions(node,test_data,metadata):\n",
    "    test_instances=test_data[1:]\n",
    "    for instance in test_instances:\n",
    "        prediction=predict(node,instance,metadata)\n",
    "        print(f\"The test_instance:{instance}\")\n",
    "        print(f\"The predicted label:{prediction}\\n\")"
   ]
  },
  {
   "cell_type": "code",
   "execution_count": 12,
   "id": "d60516b6",
   "metadata": {},
   "outputs": [
    {
     "name": "stdout",
     "output_type": "stream",
     "text": [
      "Decision Tree Structure:\n",
      " weather\n",
      "  cloudy\n",
      "   yes\n",
      "  rain\n",
      "   wind\n",
      "    strong\n",
      "     no\n",
      "    weak\n",
      "     yes\n",
      "  sunny\n",
      "   humidity\n",
      "    high\n",
      "     no\n",
      "    normal\n",
      "     yes\n",
      "/nPrediction for test data:\n",
      "The test_instance:['sunny', 'hot', 'high', 'strong']\n",
      "The predicted label:no\n",
      "\n",
      "The test_instance:['cloudy', 'hot', 'high', 'weak']\n",
      "The predicted label:yes\n",
      "\n"
     ]
    }
   ],
   "source": [
    "metadata,traindata=read_data(\"train.csv\")\n",
    "test_data=read_test_data(\"test.csv\")\n",
    "data=np.array(traindata)\n",
    "node=create_node(data,metadata)\n",
    "print(\"Decision Tree Structure:\")\n",
    "print_tree(node,0)\n",
    "print(\"/nPrediction for test data:\")\n",
    "print_predictions(node,test_data,metadata)"
   ]
  },
  {
   "cell_type": "code",
   "execution_count": 13,
   "id": "62088073",
   "metadata": {},
   "outputs": [],
   "source": [
    "import numpy as np\n",
    "import math\n",
    "import csv\n"
   ]
  },
  {
   "cell_type": "code",
   "execution_count": null,
   "id": "3387d96a",
   "metadata": {},
   "outputs": [],
   "source": []
  }
 ],
 "metadata": {
  "kernelspec": {
   "display_name": "Python 3 (ipykernel)",
   "language": "python",
   "name": "python3"
  },
  "language_info": {
   "codemirror_mode": {
    "name": "ipython",
    "version": 3
   },
   "file_extension": ".py",
   "mimetype": "text/x-python",
   "name": "python",
   "nbconvert_exporter": "python",
   "pygments_lexer": "ipython3",
   "version": "3.10.9"
  }
 },
 "nbformat": 4,
 "nbformat_minor": 5
}
