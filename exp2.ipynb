{
 "cells": [
  {
   "cell_type": "code",
   "execution_count": 1,
   "id": "6af2def4",
   "metadata": {},
   "outputs": [
    {
     "name": "stdout",
     "output_type": "stream",
     "text": [
      "     sky airtemp humidity    wind water forecast enjoy spent\n",
      "0  sunny    warm   normal  strong  warm     same         yes\n",
      "1  sunny    warm     high  strong  warm     same         yes\n",
      "2  rainy    cold     high  strong  warm   change          no\n",
      "3  sunny    warm     high  strong  cool   change         yes\n"
     ]
    }
   ],
   "source": [
    "import pandas as pd\n",
    "import numpy as np\n",
    "df=pd.read_csv(\"p1.csv\")\n",
    "print(df)"
   ]
  },
  {
   "cell_type": "code",
   "execution_count": 4,
   "id": "0da9631c",
   "metadata": {},
   "outputs": [
    {
     "name": "stdout",
     "output_type": "stream",
     "text": [
      "features in the dataset:\n",
      " [['sunny' 'warm' 'normal' 'strong' 'warm' 'same']\n",
      " ['sunny' 'warm' 'high' 'strong' 'warm' 'same']\n",
      " ['rainy' 'cold' 'high' 'strong' 'warm' 'change']\n",
      " ['sunny' 'warm' 'high' 'strong' 'cool' 'change']]\n"
     ]
    }
   ],
   "source": [
    "concept=np.array(df)[:,:-1]\n",
    "print(\"features in the dataset:\\n\",concept)"
   ]
  },
  {
   "cell_type": "code",
   "execution_count": 3,
   "id": "4875063c",
   "metadata": {},
   "outputs": [
    {
     "name": "stdout",
     "output_type": "stream",
     "text": [
      "Target concept:\n",
      " ['yes' 'yes' 'no' 'yes']\n"
     ]
    },
    {
     "data": {
      "text/plain": [
       "(4,)"
      ]
     },
     "execution_count": 3,
     "metadata": {},
     "output_type": "execute_result"
    }
   ],
   "source": [
    "target=np.array(df)[:,-1]\n",
    "print(\"Target concept:\\n\",target)\n",
    "target.shape"
   ]
  },
  {
   "cell_type": "code",
   "execution_count": 12,
   "id": "47f0bd5d",
   "metadata": {},
   "outputs": [
    {
     "name": "stdout",
     "output_type": "stream",
     "text": [
      "\n",
      "Iteration 1\n",
      "\n",
      "Specific: ['sunny' 'warm' 'normal' 'strong' 'warm' 'same']\n",
      "\n",
      "General: [['?', '?', '?', '?', '?', '?'], ['?', '?', '?', '?', '?', '?'], ['?', '?', '?', '?', '?', '?'], ['?', '?', '?', '?', '?', '?'], ['?', '?', '?', '?', '?', '?'], ['?', '?', '?', '?', '?', '?']]\n",
      "\n",
      "\n",
      "\n",
      "\n",
      "Iteration 2\n",
      "\n",
      "Specific: ['sunny' 'warm' '?' 'strong' 'warm' 'same']\n",
      "\n",
      "General: [['?', '?', '?', '?', '?', '?'], ['?', '?', '?', '?', '?', '?'], ['?', '?', '?', '?', '?', '?'], ['?', '?', '?', '?', '?', '?'], ['?', '?', '?', '?', '?', '?'], ['?', '?', '?', '?', '?', '?']]\n",
      "\n",
      "\n",
      "\n",
      "\n",
      "Iteration 3\n",
      "\n",
      "Specific: ['sunny' 'warm' '?' 'strong' 'warm' 'same']\n",
      "\n",
      "General: [['sunny', '?', '?', '?', '?', '?'], ['?', 'warm', '?', '?', '?', '?'], ['?', '?', '?', '?', '?', '?'], ['?', '?', '?', '?', '?', '?'], ['?', '?', '?', '?', '?', '?'], ['?', '?', '?', '?', '?', 'same']]\n",
      "\n",
      "\n",
      "\n",
      "\n",
      "Iteration 4\n",
      "\n",
      "Specific: ['sunny' 'warm' '?' 'strong' '?' '?']\n",
      "\n",
      "General: [['sunny', '?', '?', '?', '?', '?'], ['?', 'warm', '?', '?', '?', '?'], ['?', '?', '?', '?', '?', '?'], ['?', '?', '?', '?', '?', '?'], ['?', '?', '?', '?', '?', '?'], ['?', '?', '?', '?', '?', '?']]\n",
      "\n",
      "\n",
      "\n",
      "Final hypothesis:\n",
      "\n",
      "Specific hypothesis['sunny' 'warm' '?' 'strong' '?' '?']\n",
      "general hypothesis[['sunny', '?', '?', '?', '?', '?'], ['?', 'warm', '?', '?', '?', '?']]\n"
     ]
    }
   ],
   "source": [
    "def train(con,tar):\n",
    "    specific_h=con[0].copy()\n",
    "    general_h=[['?'for x in range(len(specific_h))]for x in range (len(specific_h))]\n",
    "    \n",
    "    for i,val in enumerate(con):\n",
    "        if tar[i]=='yes':\n",
    "            for x in range(len(specific_h)):\n",
    "                if val[x] !=specific_h[x]:\n",
    "                    specific_h[x]='?'\n",
    "                    general_h[x][x]='?'\n",
    "        else:\n",
    "            for x in range(len(specific_h)):\n",
    "                if val[x] !=specific_h[x]:\n",
    "                    general_h[x][x]=specific_h[x]\n",
    "                else:\n",
    "                    general_h[x][x]='?'\n",
    "                                            \n",
    "        print(\"\\nIteration \"+str(i+1))\n",
    "        print(\"\\nSpecific: \"+str(specific_h))\n",
    "        print(\"\\nGeneral: \"+str(general_h))\n",
    "        print(\"\\n\\n\")\n",
    "                    \n",
    "    general_h=[general_h[i] for i,val in enumerate(general_h) if val !=['?' for x in range(len(specific_h))]]\n",
    "    return specific_h,general_h\n",
    "                \n",
    "specific,general=train(concept,target)\n",
    "\n",
    "print(\"Final hypothesis:\\n\")\n",
    "print(\"Specific hypothesis\"+str(specific))\n",
    "print(\"general hypothesis\"+str(general))\n",
    "                    \n",
    "                                        "
   ]
  },
  {
   "cell_type": "code",
   "execution_count": null,
   "id": "e2962d4a",
   "metadata": {},
   "outputs": [],
   "source": []
  }
 ],
 "metadata": {
  "kernelspec": {
   "display_name": "Python 3 (ipykernel)",
   "language": "python",
   "name": "python3"
  },
  "language_info": {
   "codemirror_mode": {
    "name": "ipython",
    "version": 3
   },
   "file_extension": ".py",
   "mimetype": "text/x-python",
   "name": "python",
   "nbconvert_exporter": "python",
   "pygments_lexer": "ipython3",
   "version": "3.10.9"
  }
 },
 "nbformat": 4,
 "nbformat_minor": 5
}
